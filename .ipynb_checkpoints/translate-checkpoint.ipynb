{
 "cells": [
  {
   "cell_type": "code",
   "execution_count": 15,
   "id": "23e3b557-e36d-4556-8a32-8422ffdc9003",
   "metadata": {},
   "outputs": [],
   "source": [
    "import sqlite3\n",
    "import json\n",
    "\n",
    "con = sqlite3.connect(\"git.db\")"
   ]
  },
  {
   "cell_type": "code",
   "execution_count": 14,
   "id": "b528698f-2975-49d9-a1fc-55a70ff0afba",
   "metadata": {},
   "outputs": [],
   "source": [
    "cur = con.cursor()\n",
    "\n",
    "# specify the path to the JSON file\n",
    "json_file_path = \"events.json\"\n",
    "\n",
    "# open the file and load its contents into a Python object\n",
    "with open(json_file_path, \"r\", encoding=\"utf-8\") as f:\n",
    "    json_data = json.load(f)\n",
    "## Parsing\n",
    "for entry in json_data:\n",
    "    ## CreateEvent Parsing\n",
    "    if entry['type'] == \"CreateEvent\":\n",
    "        break\n",
    "    ## PushEvent Parsing\n",
    "    if entry['type'] == \"PushEvent\":\n",
    "        break\n",
    "    ## IssueCommentEvent Parsing\n",
    "    if entry['type'] == \"IssueCommentEvent\":\n",
    "        break\n",
    "    ## PullRequestingEvent\n",
    "    if entry['type'] == \"PullRequestEvent\":\n",
    "        break"
   ]
  },
  {
   "cell_type": "code",
   "execution_count": null,
   "id": "ab440f47-fd0c-4ca0-ae92-201b9074092d",
   "metadata": {},
   "outputs": [],
   "source": [
    "## Searching and Examples of new uses"
   ]
  }
 ],
 "metadata": {
  "kernelspec": {
   "display_name": "Python 3 (ipykernel)",
   "language": "python",
   "name": "python3"
  },
  "language_info": {
   "codemirror_mode": {
    "name": "ipython",
    "version": 3
   },
   "file_extension": ".py",
   "mimetype": "text/x-python",
   "name": "python",
   "nbconvert_exporter": "python",
   "pygments_lexer": "ipython3",
   "version": "3.9.13"
  }
 },
 "nbformat": 4,
 "nbformat_minor": 5
}
