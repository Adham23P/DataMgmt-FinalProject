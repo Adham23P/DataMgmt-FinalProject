{
 "cells": [
  {
   "cell_type": "code",
   "execution_count": 1,
   "id": "23e3b557-e36d-4556-8a32-8422ffdc9003",
   "metadata": {},
   "outputs": [],
   "source": [
    "import sqlite3\n",
    "import json\n",
    "\n",
    "con = sqlite3.connect(\"git.db\")"
   ]
  },
  {
   "cell_type": "code",
   "execution_count": 27,
   "id": "b528698f-2975-49d9-a1fc-55a70ff0afba",
   "metadata": {},
   "outputs": [
    {
     "name": "stdout",
     "output_type": "stream",
     "text": [
      "hi\n"
     ]
    }
   ],
   "source": [
    "cur = con.cursor()\n",
    "\n",
    "# specify the path to the JSON file\n",
    "json_file_path = \"events.json\"\n",
    "\n",
    "# open the file and load its contents into a Python object\n",
    "with open(json_file_path, \"r\") as f:\n",
    "    json_data = json.load(f)\n",
    "## Parsing\n",
    "for entry in json_data:\n",
    "    ##print(entry)\n",
    "    ##General Information Insertion\n",
    "    user_id = entry['actor']['id']\n",
    "    repo_id = entry['repo']['id']\n",
    "    event_id = entry['id']\n",
    "    event_type = entry['type']\n",
    "    cur.execute(\"INSERT OR IGNORE INTO Users VALUES (?, ?, ?, ?, ?, ?)\", (user_id, entry['actor']['login'], entry['actor']['display_login'], entry['actor']['gravatar_id'], entry['actor']['url'], entry['actor']['avatar_url']))\n",
    "    cur.execute(\"INSERT OR IGNORE INTO Repo VALUES (?, ?, ?)\", (repo_id, entry['repo']['name'], entry['repo']['url']))     \n",
    "    con.commit()\n",
    "    ##Org Insertion if needed\n",
    "    try:\n",
    "        org = entry['org']\n",
    "        cur.execute(\"INSERT OR IGNORE INTO Org VALUES (?, ?, ?, ?, ?)\", (org['id'], org['login'], org['gravatar_id'], org['url'], org['avatar_url']))\n",
    "        con.commit()\n",
    "    except KeyError:\n",
    "        ##So program continues to execute\n",
    "        pass\n",
    "    \n",
    "\n",
    "    ## CreateEvent Parsing\n",
    "    if event_type == \"CreateEvent\":\n",
    "        ##Event Relation Insertion\n",
    "        cur.execute(\"INSERT INTO EventRelation VALUES (?, ?, ?, ?, ?, ?, ?)\", (user_id, repo_id, event_type, event_id, org['id'], entry['public'], entry['created_at']))\n",
    "        con.commit()\n",
    "        \n",
    "        ##Event details\n",
    "        payload = entry['payload']\n",
    "\n",
    "        cur.execute(\"INSERT INTO CreateEvent VALUES (?, ?, ?, ?, ?, ?)\", (event_id, payload['ref'], payload['ref_type'], payload['master_branch'], payload['description'], payload['pusher_type']))\n",
    "        con.commit()        \n",
    "\n",
    "    if event_type == \"DeleteEvent\":\n",
    "        pass\n",
    "    ## PushEvent Parsing\n",
    "    if event_type == \"PushEvent\":\n",
    "        pass\n",
    "    ## IssueCommentEvent Parsing\n",
    "    if event_type == \"IssueCommentEvent\":\n",
    "        pass\n",
    "    ## PullRequestingEvent\n",
    "    if event_type == \"PullRequestEvent\":\n",
    "        pass"
   ]
  },
  {
   "cell_type": "code",
   "execution_count": 31,
   "id": "ab440f47-fd0c-4ca0-ae92-201b9074092d",
   "metadata": {},
   "outputs": [
    {
     "name": "stdout",
     "output_type": "stream",
     "text": [
      "[('49699333', '484395347', 'CreateEvent', '28179866030', '66235900', 1, '2023-04-04T00:59:23Z')]\n"
     ]
    }
   ],
   "source": [
    "## Searching and Examples of new uses\n",
    "cur.execute(\"SELECT * FROM EventRelation\")\n",
    "print(cur.fetchall())"
   ]
  }
 ],
 "metadata": {
  "kernelspec": {
   "display_name": "Python 3 (ipykernel)",
   "language": "python",
   "name": "python3"
  },
  "language_info": {
   "codemirror_mode": {
    "name": "ipython",
    "version": 3
   },
   "file_extension": ".py",
   "mimetype": "text/x-python",
   "name": "python",
   "nbconvert_exporter": "python",
   "pygments_lexer": "ipython3",
   "version": "3.8.16"
  }
 },
 "nbformat": 4,
 "nbformat_minor": 5
}
